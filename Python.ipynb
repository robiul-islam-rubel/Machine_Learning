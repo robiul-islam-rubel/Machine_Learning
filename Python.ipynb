{
  "nbformat": 4,
  "nbformat_minor": 0,
  "metadata": {
    "colab": {
      "provenance": [],
      "authorship_tag": "ABX9TyP0LoceeLG7rmU9mmze6PZS",
      "include_colab_link": true
    },
    "kernelspec": {
      "name": "python3",
      "display_name": "Python 3"
    },
    "language_info": {
      "name": "python"
    }
  },
  "cells": [
    {
      "cell_type": "markdown",
      "metadata": {
        "id": "view-in-github",
        "colab_type": "text"
      },
      "source": [
        "<a href=\"https://colab.research.google.com/github/robiul-islam-rubel/Machine_Learning/blob/main/Python.ipynb\" target=\"_parent\"><img src=\"https://colab.research.google.com/assets/colab-badge.svg\" alt=\"Open In Colab\"/></a>"
      ]
    },
    {
      "cell_type": "markdown",
      "source": [
        "**Comment**"
      ],
      "metadata": {
        "id": "OUNhlcCJcB3B"
      }
    },
    {
      "cell_type": "code",
      "execution_count": null,
      "metadata": {
        "colab": {
          "base_uri": "https://localhost:8080/"
        },
        "id": "9ILSZAioa4d1",
        "outputId": "4282d555-5eb0-4d00-e8b2-d002de3da65b"
      },
      "outputs": [
        {
          "output_type": "stream",
          "name": "stdout",
          "text": [
            "Welcome to my python playlist\n"
          ]
        }
      ],
      "source": [
        "print(\"Welcome to my python playlist\")"
      ]
    },
    {
      "cell_type": "code",
      "source": [
        "print(\"Welcome\")\n",
        "print(\"Hello\")\n",
        "\"\"\"\n",
        "print(\"Hello\")\n",
        "print(\"testing\")\n",
        "print(\"Bangladesh\")\n",
        "\"\"\""
      ],
      "metadata": {
        "colab": {
          "base_uri": "https://localhost:8080/",
          "height": 70
        },
        "id": "507qd6LqbNGi",
        "outputId": "403aef9f-392e-4f5a-f773-b770654fb9c2"
      },
      "execution_count": null,
      "outputs": [
        {
          "output_type": "stream",
          "name": "stdout",
          "text": [
            "Welcome\n",
            "Hello\n"
          ]
        },
        {
          "output_type": "execute_result",
          "data": {
            "text/plain": [
              "'\\nprint(\"Hello\")\\nprint(\"testing\")\\nprint(\"Bangladesh\")\\n'"
            ],
            "application/vnd.google.colaboratory.intrinsic+json": {
              "type": "string"
            }
          },
          "metadata": {},
          "execution_count": 10
        }
      ]
    },
    {
      "cell_type": "markdown",
      "source": [
        "**Variable**"
      ],
      "metadata": {
        "id": "2TopzscQcFaV"
      }
    },
    {
      "cell_type": "code",
      "source": [
        "a = 5\n",
        "b = 4.5\n",
        "c = \"Hello\"\n",
        "print(c)"
      ],
      "metadata": {
        "colab": {
          "base_uri": "https://localhost:8080/"
        },
        "id": "HB0forhacJ8P",
        "outputId": "17efd275-bf2c-4ce9-ae31-727cb08296e6"
      },
      "execution_count": null,
      "outputs": [
        {
          "output_type": "stream",
          "name": "stdout",
          "text": [
            "Hello\n"
          ]
        }
      ]
    },
    {
      "cell_type": "code",
      "source": [
        "a = \"Hello\"\n",
        "b = \"World\"\n",
        "print(a+b)"
      ],
      "metadata": {
        "colab": {
          "base_uri": "https://localhost:8080/"
        },
        "id": "RtDhS1vrcsQu",
        "outputId": "0da6e2c4-affd-4e73-ed4f-2b71b9d1a586"
      },
      "execution_count": null,
      "outputs": [
        {
          "output_type": "stream",
          "name": "stdout",
          "text": [
            "HelloWorld\n"
          ]
        }
      ]
    },
    {
      "cell_type": "markdown",
      "source": [
        "**Type Casting**"
      ],
      "metadata": {
        "id": "1yqYo_gXc9Lg"
      }
    },
    {
      "cell_type": "code",
      "source": [
        "x = int(1)   # x will be 1\n",
        "y = int(2.8) # y will be 2\n",
        "z = int(\"3\") # z will be 3\n",
        "a = int(34.2525029)\n",
        "print(x,y,z,a)\n",
        "print(type(y))"
      ],
      "metadata": {
        "colab": {
          "base_uri": "https://localhost:8080/"
        },
        "id": "HlvKwEgzdGGd",
        "outputId": "90b5e966-5410-43cd-d97a-b2ca227a6848"
      },
      "execution_count": null,
      "outputs": [
        {
          "output_type": "stream",
          "name": "stdout",
          "text": [
            "1 2 3 34\n",
            "<class 'int'>\n"
          ]
        }
      ]
    },
    {
      "cell_type": "code",
      "source": [
        "x = float(1)     # x will be 1.0\n",
        "y = float(2.8)   # y will be 2.8\n",
        "z = float(\"3\")   # z will be 3.0\n",
        "w = float(\"4.2\") # w will be 4.2\n",
        "print(type(w))"
      ],
      "metadata": {
        "colab": {
          "base_uri": "https://localhost:8080/"
        },
        "id": "JV17PxoodQjD",
        "outputId": "d48d6919-bff9-4ecb-e42e-ed8be6ba69b1"
      },
      "execution_count": null,
      "outputs": [
        {
          "output_type": "stream",
          "name": "stdout",
          "text": [
            "<class 'float'>\n"
          ]
        }
      ]
    },
    {
      "cell_type": "code",
      "source": [
        "x = str(\"s1\") # x will be 's1'\n",
        "y = str(2)    # y will be '2'\n",
        "z = str(3.0)  # z will be '3.0'\n",
        "a = str(\"45.9013195190\")\n",
        "print(type(a))"
      ],
      "metadata": {
        "colab": {
          "base_uri": "https://localhost:8080/"
        },
        "id": "gS7I7z2ldTSW",
        "outputId": "a510c7fc-36fb-404a-de7e-beb9f8c9bce9"
      },
      "execution_count": null,
      "outputs": [
        {
          "output_type": "stream",
          "name": "stdout",
          "text": [
            "<class 'str'>\n"
          ]
        }
      ]
    },
    {
      "cell_type": "markdown",
      "source": [
        "**String**"
      ],
      "metadata": {
        "id": "9vUe9U3SeTOh"
      }
    },
    {
      "cell_type": "code",
      "source": [
        "a = \"Hello\"\n",
        "print(a)"
      ],
      "metadata": {
        "colab": {
          "base_uri": "https://localhost:8080/"
        },
        "id": "szTr-5g2eLBM",
        "outputId": "e5eefedc-3d5f-43c9-a0f7-c3ffeacbe5d6"
      },
      "execution_count": null,
      "outputs": [
        {
          "output_type": "stream",
          "name": "stdout",
          "text": [
            "Hello\n"
          ]
        }
      ]
    },
    {
      "cell_type": "code",
      "source": [
        "# string  is an array\n",
        "a = \"Hello, World!\"\n",
        "print(a[7])"
      ],
      "metadata": {
        "colab": {
          "base_uri": "https://localhost:8080/"
        },
        "id": "aI8FoUKXeYRY",
        "outputId": "34105444-5bc5-44e3-bed6-f9b17e69d027"
      },
      "execution_count": null,
      "outputs": [
        {
          "output_type": "stream",
          "name": "stdout",
          "text": [
            "W\n"
          ]
        }
      ]
    },
    {
      "cell_type": "code",
      "source": [
        "# using loop\n",
        "for x in \"Bangladesh\":\n",
        "  print(x)\n"
      ],
      "metadata": {
        "colab": {
          "base_uri": "https://localhost:8080/"
        },
        "id": "rSen4nxrecqC",
        "outputId": "2e359fec-ce13-4a16-bdfc-d0bfd9f8bd3c"
      },
      "execution_count": null,
      "outputs": [
        {
          "output_type": "stream",
          "name": "stdout",
          "text": [
            "B\n",
            "a\n",
            "n\n",
            "g\n",
            "l\n",
            "a\n",
            "d\n",
            "e\n",
            "s\n",
            "h\n"
          ]
        }
      ]
    },
    {
      "cell_type": "code",
      "source": [
        "# len of a string\n",
        "a = \"Bangladesh\"\n",
        "print(len(a))"
      ],
      "metadata": {
        "colab": {
          "base_uri": "https://localhost:8080/"
        },
        "id": "SXIMwUp1ejFn",
        "outputId": "a577ec45-364c-4c5a-b6f9-8c6c3ca941c1"
      },
      "execution_count": null,
      "outputs": [
        {
          "output_type": "stream",
          "name": "stdout",
          "text": [
            "10\n"
          ]
        }
      ]
    },
    {
      "cell_type": "code",
      "source": [
        "# check present\n",
        "txt = \"The best things in life are free!\"\n",
        "print(\"hello\" in txt)"
      ],
      "metadata": {
        "colab": {
          "base_uri": "https://localhost:8080/"
        },
        "id": "ARiibifHepKg",
        "outputId": "0521c268-4db0-49e8-ccde-4b7e89dfcc3f"
      },
      "execution_count": null,
      "outputs": [
        {
          "output_type": "stream",
          "name": "stdout",
          "text": [
            "False\n"
          ]
        }
      ]
    },
    {
      "cell_type": "code",
      "source": [
        "# slicing string\n",
        "b = \"Bangladesh\"\n",
        "print(b[6:10])"
      ],
      "metadata": {
        "colab": {
          "base_uri": "https://localhost:8080/"
        },
        "id": "idYqPyUge0Fx",
        "outputId": "086a5cdf-d3f2-47ce-a26f-23c5f6e41215"
      },
      "execution_count": null,
      "outputs": [
        {
          "output_type": "stream",
          "name": "stdout",
          "text": [
            "desh\n"
          ]
        }
      ]
    },
    {
      "cell_type": "code",
      "source": [
        "b = \"Bangladesh\"\n",
        "print(b[:5])"
      ],
      "metadata": {
        "colab": {
          "base_uri": "https://localhost:8080/"
        },
        "id": "dw_9jzTre4N-",
        "outputId": "a6b4eebf-23df-4f19-8870-6f58279da0ca"
      },
      "execution_count": null,
      "outputs": [
        {
          "output_type": "stream",
          "name": "stdout",
          "text": [
            "Bangl\n"
          ]
        }
      ]
    },
    {
      "cell_type": "code",
      "source": [
        "b = \"Bangladesh\"\n",
        "print(b[6:])"
      ],
      "metadata": {
        "colab": {
          "base_uri": "https://localhost:8080/"
        },
        "id": "sfnD0v_ce7KZ",
        "outputId": "d00967a2-85fe-4afa-f23d-d535dbf334ad"
      },
      "execution_count": null,
      "outputs": [
        {
          "output_type": "stream",
          "name": "stdout",
          "text": [
            "desh\n"
          ]
        }
      ]
    },
    {
      "cell_type": "code",
      "source": [
        "b = \"Bangladesh\"\n",
        "print(b[-5:])"
      ],
      "metadata": {
        "colab": {
          "base_uri": "https://localhost:8080/"
        },
        "id": "dVjmKUmxe_Bv",
        "outputId": "2722df9e-1f1c-4233-b6ab-8df17274d5d0"
      },
      "execution_count": null,
      "outputs": [
        {
          "output_type": "stream",
          "name": "stdout",
          "text": [
            "adesh\n"
          ]
        }
      ]
    },
    {
      "cell_type": "code",
      "source": [
        "#string funcitons\n",
        "a = \"BANGLADESH\"\n",
        "print(a.lower())"
      ],
      "metadata": {
        "colab": {
          "base_uri": "https://localhost:8080/"
        },
        "id": "oRfRBPOyfCbj",
        "outputId": "786ea45a-907c-4c89-b05a-870c5ac15c4f"
      },
      "execution_count": null,
      "outputs": [
        {
          "output_type": "stream",
          "name": "stdout",
          "text": [
            "bangladesh\n"
          ]
        }
      ]
    },
    {
      "cell_type": "code",
      "source": [
        "# replace\n",
        "a = \"Bangladesh\"\n",
        "print(a.replace(\"B\", \"G\"))"
      ],
      "metadata": {
        "colab": {
          "base_uri": "https://localhost:8080/"
        },
        "id": "O_uzKc0efG_h",
        "outputId": "4a4fbb18-4c1d-4cf4-8c70-a11248bbf258"
      },
      "execution_count": null,
      "outputs": [
        {
          "output_type": "stream",
          "name": "stdout",
          "text": [
            "Gangladesh\n"
          ]
        }
      ]
    },
    {
      "cell_type": "code",
      "source": [
        "# split\n",
        "a = \"Hello, World!\"\n",
        "print(a.split(\",\")) # returns ['Hello', ' World!']"
      ],
      "metadata": {
        "colab": {
          "base_uri": "https://localhost:8080/"
        },
        "id": "xW1ro4gjfK4d",
        "outputId": "da4075ea-89fe-4f9d-bc07-5d06b55a06a6"
      },
      "execution_count": null,
      "outputs": [
        {
          "output_type": "stream",
          "name": "stdout",
          "text": [
            "['Hello', ' World!']\n"
          ]
        }
      ]
    },
    {
      "cell_type": "code",
      "source": [
        "# format function\n",
        "age = 50\n",
        "print(\"The numbe is \",age)\n",
        "txt = \"My name is John, {} am years\"\n",
        "print(txt.format(age))"
      ],
      "metadata": {
        "colab": {
          "base_uri": "https://localhost:8080/"
        },
        "id": "j8I_GZX8fQ9s",
        "outputId": "03156e33-38ce-452d-e5b3-ba14238464ec"
      },
      "execution_count": null,
      "outputs": [
        {
          "output_type": "stream",
          "name": "stdout",
          "text": [
            "The numbe is  50\n",
            "My name is John, 50 am years\n"
          ]
        }
      ]
    },
    {
      "cell_type": "code",
      "source": [
        "# escape characters\n",
        "#txt = \"We are the so-called \"Vikings\" from the north.\"\n",
        "txt = \"We are the so-called \\\"Vikings\\\" from the north.\"\n",
        "print(txt)"
      ],
      "metadata": {
        "colab": {
          "base_uri": "https://localhost:8080/"
        },
        "id": "I_c8eCHyfWVV",
        "outputId": "4c73c1f4-2e25-4c2a-9990-ec2ff50dd57c"
      },
      "execution_count": null,
      "outputs": [
        {
          "output_type": "stream",
          "name": "stdout",
          "text": [
            "We are the so-called \"Vikings\" from the north.\n"
          ]
        }
      ]
    },
    {
      "cell_type": "markdown",
      "source": [
        "**Boolean**"
      ],
      "metadata": {
        "id": "_26qPnAji1nx"
      }
    },
    {
      "cell_type": "code",
      "source": [
        "print(10>9)"
      ],
      "metadata": {
        "colab": {
          "base_uri": "https://localhost:8080/"
        },
        "id": "rlPjMor_i3_o",
        "outputId": "907f5804-654d-4187-f259-cc7ee3b1cb13"
      },
      "execution_count": null,
      "outputs": [
        {
          "output_type": "stream",
          "name": "stdout",
          "text": [
            "True\n"
          ]
        }
      ]
    },
    {
      "cell_type": "code",
      "source": [
        "print(10<9)"
      ],
      "metadata": {
        "colab": {
          "base_uri": "https://localhost:8080/"
        },
        "id": "7_J_o_wzi9M4",
        "outputId": "43f3ffeb-fe4f-4c69-e792-0de236d00fe8"
      },
      "execution_count": null,
      "outputs": [
        {
          "output_type": "stream",
          "name": "stdout",
          "text": [
            "False\n"
          ]
        }
      ]
    },
    {
      "cell_type": "code",
      "source": [
        "print(9==9)"
      ],
      "metadata": {
        "colab": {
          "base_uri": "https://localhost:8080/"
        },
        "id": "bYofe8o6i9T2",
        "outputId": "510edb50-b8a3-44f7-9641-5af822f232cb"
      },
      "execution_count": null,
      "outputs": [
        {
          "output_type": "stream",
          "name": "stdout",
          "text": [
            "True\n"
          ]
        }
      ]
    },
    {
      "cell_type": "code",
      "source": [
        "a = 10\n",
        "b = 11\n",
        "if a>b:\n",
        "  print(\"a is greater\")\n",
        "else:\n",
        "  print(\"b is greater\")"
      ],
      "metadata": {
        "colab": {
          "base_uri": "https://localhost:8080/"
        },
        "id": "I-uggoWJi9Wc",
        "outputId": "08a35f4f-2daa-4f1d-b815-945c585dba89"
      },
      "execution_count": null,
      "outputs": [
        {
          "output_type": "stream",
          "name": "stdout",
          "text": [
            "b is greater\n"
          ]
        }
      ]
    },
    {
      "cell_type": "markdown",
      "source": [
        "**Operators**"
      ],
      "metadata": {
        "id": "3P8vW5RocZQo"
      }
    },
    {
      "cell_type": "code",
      "source": [
        "print(3+5)"
      ],
      "metadata": {
        "id": "MlnKHicOi9Z0",
        "colab": {
          "base_uri": "https://localhost:8080/"
        },
        "outputId": "aaad04b4-e3e9-45d0-b429-2296e1aab758"
      },
      "execution_count": null,
      "outputs": [
        {
          "output_type": "stream",
          "name": "stdout",
          "text": [
            "8\n"
          ]
        }
      ]
    },
    {
      "cell_type": "code",
      "source": [
        "print(4-1)"
      ],
      "metadata": {
        "id": "q-crfhW2i9i7",
        "colab": {
          "base_uri": "https://localhost:8080/"
        },
        "outputId": "79c01cfc-eb56-432c-f4b0-1a78d383a6c4"
      },
      "execution_count": null,
      "outputs": [
        {
          "output_type": "stream",
          "name": "stdout",
          "text": [
            "3\n"
          ]
        }
      ]
    },
    {
      "cell_type": "code",
      "source": [
        "print(3*4)"
      ],
      "metadata": {
        "id": "xXhZ7xqgi9lv",
        "colab": {
          "base_uri": "https://localhost:8080/"
        },
        "outputId": "1f1a7334-64da-47f8-e4b8-fee8deab1c6a"
      },
      "execution_count": null,
      "outputs": [
        {
          "output_type": "stream",
          "name": "stdout",
          "text": [
            "12\n"
          ]
        }
      ]
    },
    {
      "cell_type": "code",
      "source": [
        "print(6/2)"
      ],
      "metadata": {
        "id": "s4X1qt5ki9oE",
        "colab": {
          "base_uri": "https://localhost:8080/"
        },
        "outputId": "f59a6852-3352-4cf9-e1c9-0bf811d99877"
      },
      "execution_count": null,
      "outputs": [
        {
          "output_type": "stream",
          "name": "stdout",
          "text": [
            "3.0\n"
          ]
        }
      ]
    },
    {
      "cell_type": "code",
      "source": [
        "print(9//2)"
      ],
      "metadata": {
        "colab": {
          "base_uri": "https://localhost:8080/"
        },
        "id": "P3akBFm-cmB2",
        "outputId": "2120f83b-b06c-4f8c-b6e3-efa175292e61"
      },
      "execution_count": null,
      "outputs": [
        {
          "output_type": "stream",
          "name": "stdout",
          "text": [
            "4\n"
          ]
        }
      ]
    },
    {
      "cell_type": "code",
      "source": [
        "print(4%3)\n",
        "\n",
        "if(3%2==0):\n",
        "  print(\"Even\")\n",
        "else:\n",
        "  print(\"Odd\")"
      ],
      "metadata": {
        "id": "HX2qq1Jhco0O"
      },
      "execution_count": null,
      "outputs": []
    },
    {
      "cell_type": "markdown",
      "source": [
        "**List**\n",
        "\n",
        "\n",
        "*   List items are ordered, changeable, and allow duplicate values.\n",
        "\n",
        "\n",
        "\n",
        "\n"
      ],
      "metadata": {
        "id": "l2ydSRThd-6W"
      }
    },
    {
      "cell_type": "code",
      "source": [
        "myList = [\"C\",\"C++\",\"Python\",\"Java\"]\n",
        "# access list item\n",
        "\n",
        "\n",
        "# change list item\n",
        "myList[0]=\"PHP\"\n",
        "#print(myList)\n",
        "# add list item\n",
        "\"\"\"\n",
        "myList.append(\"Dart\")\n",
        "print(myList)\n",
        "myList.append(\"JavaScript\")\n",
        "print(myList)\n",
        "myList.insert(0,\"C#\")\n",
        "print(myList)\n",
        "\"\"\"\n",
        "# remove list item\n",
        "\n",
        "\"\"\"\n",
        "print(myList)\n",
        "myList.pop(0)\n",
        "print(myList)\n",
        "\"\"\"\n",
        "# loop in list\n",
        "# for x in range(len(myList)):\n",
        "#   print(myList[x])\n",
        "# list sort\n",
        "print(myList)\n",
        "myList.sort()\n",
        "print(myList)"
      ],
      "metadata": {
        "id": "U_o24a9KeBS5"
      },
      "execution_count": null,
      "outputs": []
    },
    {
      "cell_type": "markdown",
      "source": [
        "**Tuples**\n",
        "\n",
        "\n",
        "Tuple items are ordered, unchangeable, and allow duplicate values.\n",
        "\n",
        "\n"
      ],
      "metadata": {
        "id": "_xZJDvt-iDHT"
      }
    },
    {
      "cell_type": "code",
      "source": [
        "myTuple = (\"C\",\"C++\",\"Java\",\"PHP\")\n",
        "# access\n",
        "print(myTuple[1])\n",
        "# change tuple value\n",
        "temp = list(myTuple)\n",
        "temp.append(\"Python\")\n",
        "myTuple = tuple(temp)\n",
        "print(myTuple)\n",
        "# loop in tuple\n",
        "for x in myTuple:\n",
        "  print(x)\n",
        "# join tuple\n",
        "secTuple =(\"CSS\",\"HTML\")\n",
        "print(myTuple+secTuple)"
      ],
      "metadata": {
        "id": "LvhkUAOIeZGM"
      },
      "execution_count": null,
      "outputs": []
    },
    {
      "cell_type": "markdown",
      "source": [
        "**Set**\n",
        "\n",
        "---\n",
        "\n",
        "\n",
        "\n",
        "1.A set is a collection which is unordered, unchangeable*, and\n",
        "unindexed.   \n",
        "\n",
        "\n",
        "\n"
      ],
      "metadata": {
        "id": "DTKwAGR7ka_l"
      }
    },
    {
      "cell_type": "code",
      "source": [
        "mySet = {\"C\",\"C++\",\"Java\",\"PHP\"}\n",
        "\n",
        "# access\n",
        "print(\"html\" in mySet)\n",
        "# add\n",
        "mySet.add(\"CSS\")\n",
        "print(mySet)\n",
        "# remove\n",
        "mySet.remove(\"CSS\")\n",
        "print(mySet)\n",
        "# loop\n",
        "for x in myList:\n",
        "  print(x)\n",
        "# join\n",
        "newSet = {1,2}\n",
        "a = mySet.union(newSet)\n",
        "print(a)"
      ],
      "metadata": {
        "id": "IKnA7KX2eZIR"
      },
      "execution_count": null,
      "outputs": []
    },
    {
      "cell_type": "markdown",
      "source": [
        "**Dictionary**\n",
        "\n",
        "*   A dictionary is a collection which is ordered*, changeable and do not allow duplicates.\n",
        "\n",
        "\n",
        "\n",
        "\n"
      ],
      "metadata": {
        "id": "_LNHgDzqoyUd"
      }
    },
    {
      "cell_type": "code",
      "source": [
        "mydict = {\n",
        "  \"name\": \"SRK\",\n",
        "  \"country\": \"India\",\n",
        "  \"year\": 2024\n",
        "}\n",
        "# access item\n",
        "x = mydict[\"country\"]\n",
        "# print(x)\n",
        "\n",
        "# change item\n",
        "mydict[\"year\"] = 2018\n",
        "x = mydict[\"year\"]\n",
        "# print(x)\n",
        "# add item\n",
        "mydict[\"color\"] = \"red\"\n",
        "#print(mydict)\n",
        "\n",
        "# remove item\n",
        "#y= mydict.pop(\"name\")\n",
        "#print(y)\n",
        "\n",
        "# loop dictionaries keys(),values()\n",
        "for x in mydict.values():\n",
        "  print(x)\n",
        "\n"
      ],
      "metadata": {
        "colab": {
          "base_uri": "https://localhost:8080/"
        },
        "id": "BWqWXZ9TeZLT",
        "outputId": "8a7ac67d-8652-45d8-a1c6-a3c89525689e"
      },
      "execution_count": null,
      "outputs": [
        {
          "output_type": "stream",
          "name": "stdout",
          "text": [
            "SRK\n",
            "India\n",
            "2018\n",
            "red\n"
          ]
        }
      ]
    },
    {
      "cell_type": "code",
      "source": [
        "a =44\n",
        "b =10\n",
        "c = 100\n",
        "if a>b and a>c:\n",
        "  print(a)\n",
        "if b>a and b>c:\n",
        "  print(b)\n",
        "else:\n",
        "  print(c)"
      ],
      "metadata": {
        "id": "K1ugdFUBeZOs"
      },
      "execution_count": null,
      "outputs": []
    },
    {
      "cell_type": "code",
      "source": [
        "for i in range(1,11,2):\n",
        "  print(i)"
      ],
      "metadata": {
        "colab": {
          "base_uri": "https://localhost:8080/"
        },
        "id": "yAObZYd_rkRX",
        "outputId": "a3f16a61-7a4c-4dc4-f670-365abc7f7c1d"
      },
      "execution_count": null,
      "outputs": [
        {
          "output_type": "stream",
          "name": "stdout",
          "text": [
            "1\n",
            "3\n",
            "5\n",
            "7\n",
            "9\n"
          ]
        }
      ]
    },
    {
      "cell_type": "code",
      "source": [
        "i = 1\n",
        "while i<=5:\n",
        "  if(i==2):\n",
        "    print(\"This is two\")\n",
        "  else:\n",
        "    print(i)\n",
        "  i+=1"
      ],
      "metadata": {
        "id": "ci_xllonrkrF"
      },
      "execution_count": null,
      "outputs": []
    },
    {
      "cell_type": "code",
      "source": [
        "def one_to_n(n):\n",
        "  for i in range(1,n+1):\n",
        "    print(i)\n",
        "\n",
        "def sum(a,b):\n",
        "  print(a+b)\n",
        "sum(10,20)\n",
        "print(\"-----------------------------\")\n",
        "one_to_n(5)\n"
      ],
      "metadata": {
        "id": "yWicR6qtuGfk"
      },
      "execution_count": null,
      "outputs": []
    },
    {
      "cell_type": "code",
      "source": [
        "x = float(input(\"Enter your number\"))\n",
        "print(type(x))"
      ],
      "metadata": {
        "colab": {
          "base_uri": "https://localhost:8080/"
        },
        "id": "TZhwgdbkv1cs",
        "outputId": "76365c76-7ad0-4a4f-90a9-bd94cccdf3fa"
      },
      "execution_count": null,
      "outputs": [
        {
          "output_type": "stream",
          "name": "stdout",
          "text": [
            "Enter your number89.45\n",
            "<class 'float'>\n"
          ]
        }
      ]
    }
  ]
}